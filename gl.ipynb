{
 "cells": [
  {
   "cell_type": "code",
   "execution_count": 6,
   "metadata": {},
   "outputs": [
    {
     "name": "stdout",
     "output_type": "stream",
     "text": [
      "Collecting nsetools\n",
      "  Downloading nsetools-1.0.11-py3-none-any.whl (9.6 kB)\n",
      "Collecting dateutils\n",
      "  Downloading dateutils-0.6.8.tar.gz (3.9 kB)\n",
      "Requirement already satisfied: six in c:\\users\\satya\\anaconda3\\lib\\site-packages (from nsetools) (1.14.0)\n",
      "Collecting argparse\n",
      "  Downloading argparse-1.4.0-py2.py3-none-any.whl (23 kB)\n",
      "Requirement already satisfied: python-dateutil in c:\\users\\satya\\anaconda3\\lib\\site-packages (from dateutils->nsetools) (2.8.1)\n",
      "Requirement already satisfied: pytz in c:\\users\\satya\\anaconda3\\lib\\site-packages (from dateutils->nsetools) (2019.3)\n",
      "Building wheels for collected packages: dateutils\n",
      "  Building wheel for dateutils (setup.py): started\n",
      "  Building wheel for dateutils (setup.py): finished with status 'done'\n",
      "  Created wheel for dateutils: filename=dateutils-0.6.8-py3-none-any.whl size=4732 sha256=0351184c72dcc11b9cedb05e0c5f165cd3ffed35e28bbf509912a0103a4175a6\n",
      "  Stored in directory: c:\\users\\satya\\appdata\\local\\pip\\cache\\wheels\\52\\33\\a9\\50fe8e9fc14850cab1cb803e1ea023a76009cb7f53d107083c\n",
      "Successfully built dateutils\n",
      "Installing collected packages: argparse, dateutils, nsetools\n",
      "Successfully installed argparse-1.4.0 dateutils-0.6.8 nsetools-1.0.11\n",
      "Note: you may need to restart the kernel to use updated packages.\n"
     ]
    }
   ],
   "source": [
    "pip install nsetools"
   ]
  },
  {
   "cell_type": "code",
   "execution_count": 7,
   "metadata": {},
   "outputs": [],
   "source": [
    "from nsetools import Nse"
   ]
  },
  {
   "cell_type": "code",
   "execution_count": 8,
   "metadata": {},
   "outputs": [],
   "source": [
    "nse = Nse()"
   ]
  },
  {
   "cell_type": "code",
   "execution_count": 11,
   "metadata": {},
   "outputs": [],
   "source": [
    "tg = nse.get_top_gainers()"
   ]
  },
  {
   "cell_type": "code",
   "execution_count": 12,
   "metadata": {},
   "outputs": [
    {
     "name": "stdout",
     "output_type": "stream",
     "text": [
      "[{'symbol': 'MARUTI', 'series': 'EQ', 'openPrice': 5445.0, 'highPrice': 5704.5, 'lowPrice': 5445.0, 'ltp': 5669.95, 'previousPrice': 5502.2, 'netPrice': 3.05, 'tradedQuantity': 1219694.0, 'turnoverInLakhs': 68678.04, 'lastCorpAnnouncementDate': '14-Aug-2019', 'lastCorpAnnouncement': 'Dividend - Rs 80 Per Share'}, {'symbol': 'WIPRO', 'series': 'EQ', 'openPrice': 212.0, 'highPrice': 218.5, 'lowPrice': 211.05, 'ltp': 217.6, 'previousPrice': 212.4, 'netPrice': 2.45, 'tradedQuantity': 7968365.0, 'turnoverInLakhs': 17238.76, 'lastCorpAnnouncementDate': '24-Jan-2020', 'lastCorpAnnouncement': 'Interim Dividend - Re 1 Per Share'}, {'symbol': 'BHARTIARTL', 'series': 'EQ', 'openPrice': 546.85, 'highPrice': 557.5, 'lowPrice': 541.0, 'ltp': 554.85, 'previousPrice': 544.9, 'netPrice': 1.83, 'tradedQuantity': 8625263.0, 'turnoverInLakhs': 47608.86, 'lastCorpAnnouncementDate': '23-Apr-2019', 'lastCorpAnnouncement': 'Rights 19:67 @ Premium Rs 215 Per Share'}, {'symbol': 'BRITANNIA', 'series': 'EQ', 'openPrice': 3357.85, 'highPrice': 3435.0, 'lowPrice': 3355.05, 'ltp': 3399.5, 'previousPrice': 3345.35, 'netPrice': 1.62, 'tradedQuantity': 530459.0, 'turnoverInLakhs': 18051.68, 'lastCorpAnnouncementDate': '29-Jun-2020', 'lastCorpAnnouncement': 'Annual General Meeting'}, {'symbol': 'ZEEL', 'series': 'EQ', 'openPrice': 163.95, 'highPrice': 169.4, 'lowPrice': 161.7, 'ltp': 166.2, 'previousPrice': 163.9, 'netPrice': 1.4, 'tradedQuantity': 15841666.0, 'turnoverInLakhs': 26382.71, 'lastCorpAnnouncementDate': '15-Jul-2019', 'lastCorpAnnouncement': 'Annual General Meeting/ Dividend - Rs 3.50 Per Share'}, {'symbol': 'AXISBANK', 'series': 'EQ', 'openPrice': 377.45, 'highPrice': 391.9, 'lowPrice': 375.3, 'ltp': 386.85, 'previousPrice': 381.55, 'netPrice': 1.39, 'tradedQuantity': 26818083.0, 'turnoverInLakhs': 103681.39, 'lastCorpAnnouncementDate': '04-Jul-2019', 'lastCorpAnnouncement': 'Annual General Meeting/ Dividend - Re 1 Per Share'}, {'symbol': 'TECHM', 'series': 'EQ', 'openPrice': 531.0, 'highPrice': 545.0, 'lowPrice': 528.4, 'ltp': 538.1, 'previousPrice': 533.3, 'netPrice': 0.9, 'tradedQuantity': 3637775.0, 'turnoverInLakhs': 19615.97, 'lastCorpAnnouncementDate': '23-Jul-2020', 'lastCorpAnnouncement': 'Annual General Meeting/Dividend - Rs 5 Per Share'}, {'symbol': 'ULTRACEMCO', 'series': 'EQ', 'openPrice': 3760.0, 'highPrice': 3816.0, 'lowPrice': 3712.0, 'ltp': 3813.6, 'previousPrice': 3779.95, 'netPrice': 0.89, 'tradedQuantity': 176909.0, 'turnoverInLakhs': 6663.38, 'lastCorpAnnouncementDate': '10-Jul-2019', 'lastCorpAnnouncement': 'Annual General Meeting/Dividend - Rs 11.50 Per Share'}, {'symbol': 'INFY', 'series': 'EQ', 'openPrice': 699.9, 'highPrice': 707.8, 'lowPrice': 698.0, 'ltp': 706.8, 'previousPrice': 701.2, 'netPrice': 0.8, 'tradedQuantity': 2902468.0, 'turnoverInLakhs': 20472.27, 'lastCorpAnnouncementDate': '29-May-2020', 'lastCorpAnnouncement': 'Dividend - Rs 9.50 Per Share'}, {'symbol': 'ADANIPORTS', 'series': 'EQ', 'openPrice': 341.0, 'highPrice': 345.3, 'lowPrice': 337.55, 'ltp': 343.5, 'previousPrice': 340.8, 'netPrice': 0.79, 'tradedQuantity': 941688.0, 'turnoverInLakhs': 3222.64, 'lastCorpAnnouncementDate': '17-Jun-2020', 'lastCorpAnnouncement': 'Annual General Meeting'}]\n"
     ]
    }
   ],
   "source": [
    "print(tg)"
   ]
  },
  {
   "cell_type": "code",
   "execution_count": 13,
   "metadata": {},
   "outputs": [
    {
     "name": "stdout",
     "output_type": "stream",
     "text": [
      "[{'symbol': 'INFRATEL', 'series': 'EQ', 'openPrice': 216.8, 'highPrice': 216.8, 'lowPrice': 207.6, 'ltp': 209.8, 'previousPrice': 216.0, 'netPrice': '-2.87', 'tradedQuantity': 6491019.0, 'turnoverInLakhs': 13664.89, 'lastCorpAnnouncementDate': '05-May-2020', 'lastCorpAnnouncement': 'Interim Dividend - Rs 4.10 Per Share'}, {'symbol': 'M&M', 'series': 'EQ', 'openPrice': 504.9, 'highPrice': 504.9, 'lowPrice': 492.5, 'ltp': 494.85, 'previousPrice': 506.75, 'netPrice': '-2.35', 'tradedQuantity': 4612402.0, 'turnoverInLakhs': 22939.32, 'lastCorpAnnouncementDate': '16-Jul-2020', 'lastCorpAnnouncement': 'Annual General Meeting/Dividend - Rs 2.35 Per Share'}, {'symbol': 'HEROMOTOCO', 'series': 'EQ', 'openPrice': 2377.25, 'highPrice': 2390.0, 'lowPrice': 2341.0, 'ltp': 2348.75, 'previousPrice': 2395.95, 'netPrice': '-1.97', 'tradedQuantity': 623084.0, 'turnoverInLakhs': 14706.28, 'lastCorpAnnouncementDate': '17-Feb-2020', 'lastCorpAnnouncement': 'Interim Dividend - Rs 65 Per Sh'}, {'symbol': 'POWERGRID', 'series': 'EQ', 'openPrice': 160.85, 'highPrice': 161.8, 'lowPrice': 158.35, 'ltp': 159.55, 'previousPrice': 162.7, 'netPrice': '-1.94', 'tradedQuantity': 7105336.0, 'turnoverInLakhs': 11335.85, 'lastCorpAnnouncementDate': '16-Mar-2020', 'lastCorpAnnouncement': 'Interim Dividend - Rs 5.96 Per Share'}, {'symbol': 'SHREECEM', 'series': 'EQ', 'openPrice': 21978.0, 'highPrice': 22079.5, 'lowPrice': 21640.0, 'ltp': 21747.0, 'previousPrice': 22111.3, 'netPrice': '-1.65', 'tradedQuantity': 20977.0, 'turnoverInLakhs': 4572.54, 'lastCorpAnnouncementDate': '24-Feb-2020', 'lastCorpAnnouncement': 'Interim Dividend - Rs 110 Per Share'}, {'symbol': 'NTPC', 'series': 'EQ', 'openPrice': 92.95, 'highPrice': 92.95, 'lowPrice': 90.85, 'ltp': 91.65, 'previousPrice': 92.8, 'netPrice': '-1.24', 'tradedQuantity': 8968635.0, 'turnoverInLakhs': 8216.17, 'lastCorpAnnouncementDate': '26-Mar-2020', 'lastCorpAnnouncement': 'Interim Dividend - Rs 0.50 Per Hsare'}, {'symbol': 'GAIL', 'series': 'EQ', 'openPrice': 97.5, 'highPrice': 97.65, 'lowPrice': 95.6, 'ltp': 96.3, 'previousPrice': 97.5, 'netPrice': '-1.23', 'tradedQuantity': 7784568.0, 'turnoverInLakhs': 7491.87, 'lastCorpAnnouncementDate': '17-Feb-2020', 'lastCorpAnnouncement': 'Interim Dividend - Rs 6.4 Per Share'}, {'symbol': 'HINDALCO', 'series': 'EQ', 'openPrice': 149.7, 'highPrice': 152.1, 'lowPrice': 147.85, 'ltp': 148.5, 'previousPrice': 150.1, 'netPrice': '-1.07', 'tradedQuantity': 6712912.0, 'turnoverInLakhs': 10051.24, 'lastCorpAnnouncementDate': '14-Aug-2019', 'lastCorpAnnouncement': 'Annual General Meeting/Dividend - Rs 1.20 Per Share'}, {'symbol': 'KOTAKBANK', 'series': 'EQ', 'openPrice': 1269.45, 'highPrice': 1284.95, 'lowPrice': 1251.25, 'ltp': 1264.35, 'previousPrice': 1276.8, 'netPrice': '-0.98', 'tradedQuantity': 1675869.0, 'turnoverInLakhs': 21251.86, 'lastCorpAnnouncementDate': '12-Jul-2019', 'lastCorpAnnouncement': 'Annual General Meeting/Dividend Rs 0.80 Per Share'}, {'symbol': 'TATAMOTORS', 'series': 'EQ', 'openPrice': 93.0, 'highPrice': 95.1, 'lowPrice': 91.8, 'ltp': 93.85, 'previousPrice': 94.75, 'netPrice': '-0.95', 'tradedQuantity': 48615984.0, 'turnoverInLakhs': 45499.7, 'lastCorpAnnouncementDate': '18-Jul-2016', 'lastCorpAnnouncement': 'Dividend - Re 0.20/- Per Share'}]\n"
     ]
    }
   ],
   "source": [
    "tl = nse.get_top_losers()\n",
    "print(tl)"
   ]
  },
  {
   "cell_type": "code",
   "execution_count": 14,
   "metadata": {},
   "outputs": [],
   "source": [
    "import pprint"
   ]
  },
  {
   "cell_type": "code",
   "execution_count": 16,
   "metadata": {},
   "outputs": [
    {
     "name": "stdout",
     "output_type": "stream",
     "text": [
      "[{'highPrice': 5704.5,\n",
      "  'lastCorpAnnouncement': 'Dividend - Rs 80 Per Share',\n",
      "  'lastCorpAnnouncementDate': '14-Aug-2019',\n",
      "  'lowPrice': 5445.0,\n",
      "  'ltp': 5669.95,\n",
      "  'netPrice': 3.05,\n",
      "  'openPrice': 5445.0,\n",
      "  'previousPrice': 5502.2,\n",
      "  'series': 'EQ',\n",
      "  'symbol': 'MARUTI',\n",
      "  'tradedQuantity': 1219694.0,\n",
      "  'turnoverInLakhs': 68678.04},\n",
      " {'highPrice': 218.5,\n",
      "  'lastCorpAnnouncement': 'Interim Dividend - Re 1 Per Share',\n",
      "  'lastCorpAnnouncementDate': '24-Jan-2020',\n",
      "  'lowPrice': 211.05,\n",
      "  'ltp': 217.6,\n",
      "  'netPrice': 2.45,\n",
      "  'openPrice': 212.0,\n",
      "  'previousPrice': 212.4,\n",
      "  'series': 'EQ',\n",
      "  'symbol': 'WIPRO',\n",
      "  'tradedQuantity': 7968365.0,\n",
      "  'turnoverInLakhs': 17238.76},\n",
      " {'highPrice': 557.5,\n",
      "  'lastCorpAnnouncement': 'Rights 19:67 @ Premium Rs 215 Per Share',\n",
      "  'lastCorpAnnouncementDate': '23-Apr-2019',\n",
      "  'lowPrice': 541.0,\n",
      "  'ltp': 554.85,\n",
      "  'netPrice': 1.83,\n",
      "  'openPrice': 546.85,\n",
      "  'previousPrice': 544.9,\n",
      "  'series': 'EQ',\n",
      "  'symbol': 'BHARTIARTL',\n",
      "  'tradedQuantity': 8625263.0,\n",
      "  'turnoverInLakhs': 47608.86},\n",
      " {'highPrice': 3435.0,\n",
      "  'lastCorpAnnouncement': 'Annual General Meeting',\n",
      "  'lastCorpAnnouncementDate': '29-Jun-2020',\n",
      "  'lowPrice': 3355.05,\n",
      "  'ltp': 3399.5,\n",
      "  'netPrice': 1.62,\n",
      "  'openPrice': 3357.85,\n",
      "  'previousPrice': 3345.35,\n",
      "  'series': 'EQ',\n",
      "  'symbol': 'BRITANNIA',\n",
      "  'tradedQuantity': 530459.0,\n",
      "  'turnoverInLakhs': 18051.68},\n",
      " {'highPrice': 169.4,\n",
      "  'lastCorpAnnouncement': 'Annual General Meeting/ Dividend - Rs 3.50 Per '\n",
      "                          'Share',\n",
      "  'lastCorpAnnouncementDate': '15-Jul-2019',\n",
      "  'lowPrice': 161.7,\n",
      "  'ltp': 166.2,\n",
      "  'netPrice': 1.4,\n",
      "  'openPrice': 163.95,\n",
      "  'previousPrice': 163.9,\n",
      "  'series': 'EQ',\n",
      "  'symbol': 'ZEEL',\n",
      "  'tradedQuantity': 15841666.0,\n",
      "  'turnoverInLakhs': 26382.71},\n",
      " {'highPrice': 391.9,\n",
      "  'lastCorpAnnouncement': 'Annual General Meeting/ Dividend - Re 1 Per Share',\n",
      "  'lastCorpAnnouncementDate': '04-Jul-2019',\n",
      "  'lowPrice': 375.3,\n",
      "  'ltp': 386.85,\n",
      "  'netPrice': 1.39,\n",
      "  'openPrice': 377.45,\n",
      "  'previousPrice': 381.55,\n",
      "  'series': 'EQ',\n",
      "  'symbol': 'AXISBANK',\n",
      "  'tradedQuantity': 26818083.0,\n",
      "  'turnoverInLakhs': 103681.39},\n",
      " {'highPrice': 545.0,\n",
      "  'lastCorpAnnouncement': 'Annual General Meeting/Dividend - Rs 5 Per Share',\n",
      "  'lastCorpAnnouncementDate': '23-Jul-2020',\n",
      "  'lowPrice': 528.4,\n",
      "  'ltp': 538.1,\n",
      "  'netPrice': 0.9,\n",
      "  'openPrice': 531.0,\n",
      "  'previousPrice': 533.3,\n",
      "  'series': 'EQ',\n",
      "  'symbol': 'TECHM',\n",
      "  'tradedQuantity': 3637775.0,\n",
      "  'turnoverInLakhs': 19615.97},\n",
      " {'highPrice': 3816.0,\n",
      "  'lastCorpAnnouncement': 'Annual General Meeting/Dividend - Rs 11.50 Per '\n",
      "                          'Share',\n",
      "  'lastCorpAnnouncementDate': '10-Jul-2019',\n",
      "  'lowPrice': 3712.0,\n",
      "  'ltp': 3813.6,\n",
      "  'netPrice': 0.89,\n",
      "  'openPrice': 3760.0,\n",
      "  'previousPrice': 3779.95,\n",
      "  'series': 'EQ',\n",
      "  'symbol': 'ULTRACEMCO',\n",
      "  'tradedQuantity': 176909.0,\n",
      "  'turnoverInLakhs': 6663.38},\n",
      " {'highPrice': 707.8,\n",
      "  'lastCorpAnnouncement': 'Dividend - Rs 9.50 Per Share',\n",
      "  'lastCorpAnnouncementDate': '29-May-2020',\n",
      "  'lowPrice': 698.0,\n",
      "  'ltp': 706.8,\n",
      "  'netPrice': 0.8,\n",
      "  'openPrice': 699.9,\n",
      "  'previousPrice': 701.2,\n",
      "  'series': 'EQ',\n",
      "  'symbol': 'INFY',\n",
      "  'tradedQuantity': 2902468.0,\n",
      "  'turnoverInLakhs': 20472.27},\n",
      " {'highPrice': 345.3,\n",
      "  'lastCorpAnnouncement': 'Annual General Meeting',\n",
      "  'lastCorpAnnouncementDate': '17-Jun-2020',\n",
      "  'lowPrice': 337.55,\n",
      "  'ltp': 343.5,\n",
      "  'netPrice': 0.79,\n",
      "  'openPrice': 341.0,\n",
      "  'previousPrice': 340.8,\n",
      "  'series': 'EQ',\n",
      "  'symbol': 'ADANIPORTS',\n",
      "  'tradedQuantity': 941688.0,\n",
      "  'turnoverInLakhs': 3222.64}]\n"
     ]
    }
   ],
   "source": [
    "pprint.pprint(tg)"
   ]
  },
  {
   "cell_type": "code",
   "execution_count": 17,
   "metadata": {},
   "outputs": [
    {
     "name": "stdout",
     "output_type": "stream",
     "text": [
      "[{'highPrice': 216.8,\n",
      "  'lastCorpAnnouncement': 'Interim Dividend - Rs 4.10 Per Share',\n",
      "  'lastCorpAnnouncementDate': '05-May-2020',\n",
      "  'lowPrice': 207.6,\n",
      "  'ltp': 209.8,\n",
      "  'netPrice': '-2.87',\n",
      "  'openPrice': 216.8,\n",
      "  'previousPrice': 216.0,\n",
      "  'series': 'EQ',\n",
      "  'symbol': 'INFRATEL',\n",
      "  'tradedQuantity': 6491019.0,\n",
      "  'turnoverInLakhs': 13664.89},\n",
      " {'highPrice': 504.9,\n",
      "  'lastCorpAnnouncement': 'Annual General Meeting/Dividend - Rs 2.35 Per Share',\n",
      "  'lastCorpAnnouncementDate': '16-Jul-2020',\n",
      "  'lowPrice': 492.5,\n",
      "  'ltp': 494.85,\n",
      "  'netPrice': '-2.35',\n",
      "  'openPrice': 504.9,\n",
      "  'previousPrice': 506.75,\n",
      "  'series': 'EQ',\n",
      "  'symbol': 'M&M',\n",
      "  'tradedQuantity': 4612402.0,\n",
      "  'turnoverInLakhs': 22939.32},\n",
      " {'highPrice': 2390.0,\n",
      "  'lastCorpAnnouncement': 'Interim Dividend - Rs 65 Per Sh',\n",
      "  'lastCorpAnnouncementDate': '17-Feb-2020',\n",
      "  'lowPrice': 2341.0,\n",
      "  'ltp': 2348.75,\n",
      "  'netPrice': '-1.97',\n",
      "  'openPrice': 2377.25,\n",
      "  'previousPrice': 2395.95,\n",
      "  'series': 'EQ',\n",
      "  'symbol': 'HEROMOTOCO',\n",
      "  'tradedQuantity': 623084.0,\n",
      "  'turnoverInLakhs': 14706.28},\n",
      " {'highPrice': 161.8,\n",
      "  'lastCorpAnnouncement': 'Interim Dividend - Rs 5.96 Per Share',\n",
      "  'lastCorpAnnouncementDate': '16-Mar-2020',\n",
      "  'lowPrice': 158.35,\n",
      "  'ltp': 159.55,\n",
      "  'netPrice': '-1.94',\n",
      "  'openPrice': 160.85,\n",
      "  'previousPrice': 162.7,\n",
      "  'series': 'EQ',\n",
      "  'symbol': 'POWERGRID',\n",
      "  'tradedQuantity': 7105336.0,\n",
      "  'turnoverInLakhs': 11335.85},\n",
      " {'highPrice': 22079.5,\n",
      "  'lastCorpAnnouncement': 'Interim Dividend - Rs 110 Per Share',\n",
      "  'lastCorpAnnouncementDate': '24-Feb-2020',\n",
      "  'lowPrice': 21640.0,\n",
      "  'ltp': 21747.0,\n",
      "  'netPrice': '-1.65',\n",
      "  'openPrice': 21978.0,\n",
      "  'previousPrice': 22111.3,\n",
      "  'series': 'EQ',\n",
      "  'symbol': 'SHREECEM',\n",
      "  'tradedQuantity': 20977.0,\n",
      "  'turnoverInLakhs': 4572.54},\n",
      " {'highPrice': 92.95,\n",
      "  'lastCorpAnnouncement': 'Interim Dividend - Rs 0.50 Per Hsare',\n",
      "  'lastCorpAnnouncementDate': '26-Mar-2020',\n",
      "  'lowPrice': 90.85,\n",
      "  'ltp': 91.65,\n",
      "  'netPrice': '-1.24',\n",
      "  'openPrice': 92.95,\n",
      "  'previousPrice': 92.8,\n",
      "  'series': 'EQ',\n",
      "  'symbol': 'NTPC',\n",
      "  'tradedQuantity': 8968635.0,\n",
      "  'turnoverInLakhs': 8216.17},\n",
      " {'highPrice': 97.65,\n",
      "  'lastCorpAnnouncement': 'Interim Dividend - Rs 6.4 Per Share',\n",
      "  'lastCorpAnnouncementDate': '17-Feb-2020',\n",
      "  'lowPrice': 95.6,\n",
      "  'ltp': 96.3,\n",
      "  'netPrice': '-1.23',\n",
      "  'openPrice': 97.5,\n",
      "  'previousPrice': 97.5,\n",
      "  'series': 'EQ',\n",
      "  'symbol': 'GAIL',\n",
      "  'tradedQuantity': 7784568.0,\n",
      "  'turnoverInLakhs': 7491.87},\n",
      " {'highPrice': 152.1,\n",
      "  'lastCorpAnnouncement': 'Annual General Meeting/Dividend - Rs 1.20 Per Share',\n",
      "  'lastCorpAnnouncementDate': '14-Aug-2019',\n",
      "  'lowPrice': 147.85,\n",
      "  'ltp': 148.5,\n",
      "  'netPrice': '-1.07',\n",
      "  'openPrice': 149.7,\n",
      "  'previousPrice': 150.1,\n",
      "  'series': 'EQ',\n",
      "  'symbol': 'HINDALCO',\n",
      "  'tradedQuantity': 6712912.0,\n",
      "  'turnoverInLakhs': 10051.24},\n",
      " {'highPrice': 1284.95,\n",
      "  'lastCorpAnnouncement': 'Annual General Meeting/Dividend Rs 0.80 Per Share',\n",
      "  'lastCorpAnnouncementDate': '12-Jul-2019',\n",
      "  'lowPrice': 1251.25,\n",
      "  'ltp': 1264.35,\n",
      "  'netPrice': '-0.98',\n",
      "  'openPrice': 1269.45,\n",
      "  'previousPrice': 1276.8,\n",
      "  'series': 'EQ',\n",
      "  'symbol': 'KOTAKBANK',\n",
      "  'tradedQuantity': 1675869.0,\n",
      "  'turnoverInLakhs': 21251.86},\n",
      " {'highPrice': 95.1,\n",
      "  'lastCorpAnnouncement': 'Dividend - Re 0.20/- Per Share',\n",
      "  'lastCorpAnnouncementDate': '18-Jul-2016',\n",
      "  'lowPrice': 91.8,\n",
      "  'ltp': 93.85,\n",
      "  'netPrice': '-0.95',\n",
      "  'openPrice': 93.0,\n",
      "  'previousPrice': 94.75,\n",
      "  'series': 'EQ',\n",
      "  'symbol': 'TATAMOTORS',\n",
      "  'tradedQuantity': 48615984.0,\n",
      "  'turnoverInLakhs': 45499.7}]\n"
     ]
    }
   ],
   "source": [
    "pprint.pprint(tl)"
   ]
  },
  {
   "cell_type": "code",
   "execution_count": 20,
   "metadata": {},
   "outputs": [],
   "source": [
    "import pandas as pd\n",
    "#top_g = pd.series(tg)"
   ]
  },
  {
   "cell_type": "code",
   "execution_count": 23,
   "metadata": {},
   "outputs": [],
   "source": [
    "import numpy as np"
   ]
  },
  {
   "cell_type": "code",
   "execution_count": 58,
   "metadata": {},
   "outputs": [],
   "source": [
    "top_g = np.array(tg)\n",
    "top_l = np.array(tl)"
   ]
  },
  {
   "cell_type": "code",
   "execution_count": 30,
   "metadata": {},
   "outputs": [
    {
     "name": "stdout",
     "output_type": "stream",
     "text": [
      "[{'symbol': 'MARUTI', 'series': 'EQ', 'openPrice': 5445.0, 'highPrice': 5704.5, 'lowPrice': 5445.0, 'ltp': 5669.95, 'previousPrice': 5502.2, 'netPrice': 3.05, 'tradedQuantity': 1219694.0, 'turnoverInLakhs': 68678.04, 'lastCorpAnnouncementDate': '14-Aug-2019', 'lastCorpAnnouncement': 'Dividend - Rs 80 Per Share'}\n",
      " {'symbol': 'WIPRO', 'series': 'EQ', 'openPrice': 212.0, 'highPrice': 218.5, 'lowPrice': 211.05, 'ltp': 217.6, 'previousPrice': 212.4, 'netPrice': 2.45, 'tradedQuantity': 7968365.0, 'turnoverInLakhs': 17238.76, 'lastCorpAnnouncementDate': '24-Jan-2020', 'lastCorpAnnouncement': 'Interim Dividend - Re 1 Per Share'}\n",
      " {'symbol': 'BHARTIARTL', 'series': 'EQ', 'openPrice': 546.85, 'highPrice': 557.5, 'lowPrice': 541.0, 'ltp': 554.85, 'previousPrice': 544.9, 'netPrice': 1.83, 'tradedQuantity': 8625263.0, 'turnoverInLakhs': 47608.86, 'lastCorpAnnouncementDate': '23-Apr-2019', 'lastCorpAnnouncement': 'Rights 19:67 @ Premium Rs 215 Per Share'}\n",
      " {'symbol': 'BRITANNIA', 'series': 'EQ', 'openPrice': 3357.85, 'highPrice': 3435.0, 'lowPrice': 3355.05, 'ltp': 3399.5, 'previousPrice': 3345.35, 'netPrice': 1.62, 'tradedQuantity': 530459.0, 'turnoverInLakhs': 18051.68, 'lastCorpAnnouncementDate': '29-Jun-2020', 'lastCorpAnnouncement': 'Annual General Meeting'}\n",
      " {'symbol': 'ZEEL', 'series': 'EQ', 'openPrice': 163.95, 'highPrice': 169.4, 'lowPrice': 161.7, 'ltp': 166.2, 'previousPrice': 163.9, 'netPrice': 1.4, 'tradedQuantity': 15841666.0, 'turnoverInLakhs': 26382.71, 'lastCorpAnnouncementDate': '15-Jul-2019', 'lastCorpAnnouncement': 'Annual General Meeting/ Dividend - Rs 3.50 Per Share'}\n",
      " {'symbol': 'AXISBANK', 'series': 'EQ', 'openPrice': 377.45, 'highPrice': 391.9, 'lowPrice': 375.3, 'ltp': 386.85, 'previousPrice': 381.55, 'netPrice': 1.39, 'tradedQuantity': 26818083.0, 'turnoverInLakhs': 103681.39, 'lastCorpAnnouncementDate': '04-Jul-2019', 'lastCorpAnnouncement': 'Annual General Meeting/ Dividend - Re 1 Per Share'}\n",
      " {'symbol': 'TECHM', 'series': 'EQ', 'openPrice': 531.0, 'highPrice': 545.0, 'lowPrice': 528.4, 'ltp': 538.1, 'previousPrice': 533.3, 'netPrice': 0.9, 'tradedQuantity': 3637775.0, 'turnoverInLakhs': 19615.97, 'lastCorpAnnouncementDate': '23-Jul-2020', 'lastCorpAnnouncement': 'Annual General Meeting/Dividend - Rs 5 Per Share'}\n",
      " {'symbol': 'ULTRACEMCO', 'series': 'EQ', 'openPrice': 3760.0, 'highPrice': 3816.0, 'lowPrice': 3712.0, 'ltp': 3813.6, 'previousPrice': 3779.95, 'netPrice': 0.89, 'tradedQuantity': 176909.0, 'turnoverInLakhs': 6663.38, 'lastCorpAnnouncementDate': '10-Jul-2019', 'lastCorpAnnouncement': 'Annual General Meeting/Dividend - Rs 11.50 Per Share'}\n",
      " {'symbol': 'INFY', 'series': 'EQ', 'openPrice': 699.9, 'highPrice': 707.8, 'lowPrice': 698.0, 'ltp': 706.8, 'previousPrice': 701.2, 'netPrice': 0.8, 'tradedQuantity': 2902468.0, 'turnoverInLakhs': 20472.27, 'lastCorpAnnouncementDate': '29-May-2020', 'lastCorpAnnouncement': 'Dividend - Rs 9.50 Per Share'}\n",
      " {'symbol': 'ADANIPORTS', 'series': 'EQ', 'openPrice': 341.0, 'highPrice': 345.3, 'lowPrice': 337.55, 'ltp': 343.5, 'previousPrice': 340.8, 'netPrice': 0.79, 'tradedQuantity': 941688.0, 'turnoverInLakhs': 3222.64, 'lastCorpAnnouncementDate': '17-Jun-2020', 'lastCorpAnnouncement': 'Annual General Meeting'}]\n"
     ]
    }
   ],
   "source": [
    "print(top_g)"
   ]
  },
  {
   "cell_type": "code",
   "execution_count": 60,
   "metadata": {},
   "outputs": [],
   "source": [
    "import numpy as np\n",
    "s1 = top_g[0]['symbol']\n",
    "s2 = top_g[1]['symbol']\n",
    "s3 = top_g[2]['symbol']\n",
    "s4 = top_g[3]['symbol']\n",
    "s5 = top_g[4]['symbol']\n",
    "l1 = top_g[0]['ltp']\n",
    "l2 = top_g[1]['ltp']\n",
    "l3 = top_g[2]['ltp']\n",
    "l4 = top_g[3]['ltp']\n",
    "l5 = top_g[4]['ltp']\n",
    "top_gain = np.array([[s1,l1],[s2,l2],[s3,l3],[s4,l4],[s5,l5]])\n",
    "\n",
    "m1 = top_l[0]['symbol']\n",
    "m2 = top_l[1]['symbol']\n",
    "m3 = top_l[2]['symbol']\n",
    "m4 = top_l[3]['symbol']\n",
    "m5 = top_l[4]['symbol']\n",
    "n1 = top_l[0]['ltp']\n",
    "n2 = top_l[1]['ltp']\n",
    "n3 = top_l[2]['ltp']\n",
    "n4 = top_l[3]['ltp']\n",
    "n5 = top_l[4]['ltp']\n",
    "top_losers = np.array([[m1,n1],[m2,n2],[m3,n3],[m4,n4],[m5,n5]])\n",
    "#print(s1,l1),print(s2,l2),print(s3,l3),print(s4,l4),print(s5,l5)"
   ]
  },
  {
   "cell_type": "code",
   "execution_count": 61,
   "metadata": {
    "scrolled": true
   },
   "outputs": [
    {
     "name": "stdout",
     "output_type": "stream",
     "text": [
      "[['MARUTI' '5669.95']\n",
      " ['WIPRO' '217.6']\n",
      " ['BHARTIARTL' '554.85']\n",
      " ['BRITANNIA' '3399.5']\n",
      " ['ZEEL' '166.2']]\n",
      "[['INFRATEL' '209.8']\n",
      " ['M&M' '494.85']\n",
      " ['HEROMOTOCO' '2348.75']\n",
      " ['POWERGRID' '159.55']\n",
      " ['SHREECEM' '21747.0']]\n"
     ]
    }
   ],
   "source": [
    "print(top_gain)\n",
    "print(top_losers)"
   ]
  },
  {
   "cell_type": "code",
   "execution_count": 63,
   "metadata": {},
   "outputs": [
    {
     "name": "stdout",
     "output_type": "stream",
     "text": [
      "Entry price : 5669\n",
      "position size :  9\n"
     ]
    }
   ],
   "source": [
    "#postion size calculator for stocks\n",
    "a =25000\n",
    "b= 2\n",
    "#a = float(input(\"Account value : \"))\n",
    "#b = float(input(\" % of Account your are willing to Risk : \"))\n",
    "c = float(input(\"Entry price : \"))\n",
    "e = c * 1/100\n",
    "#d = float(input(\"Initial proctective stop of entry : \"))\n",
    "#d = float(input(\"Initial proctective stop of entry : \"))\n",
    "mnoey_risk = a*b/100\n",
    "cents_risk = c- (c - (c/100))\n",
    "position_size = round(mnoey_risk/cents_risk)\n",
    "#print(mnoey_risk)\n",
    "#print(cents_risk)\n",
    "print(\"position size : \",position_size)\n"
   ]
  },
  {
   "cell_type": "code",
   "execution_count": null,
   "metadata": {},
   "outputs": [],
   "source": []
  }
 ],
 "metadata": {
  "kernelspec": {
   "display_name": "Python 3",
   "language": "python",
   "name": "python3"
  },
  "language_info": {
   "codemirror_mode": {
    "name": "ipython",
    "version": 3
   },
   "file_extension": ".py",
   "mimetype": "text/x-python",
   "name": "python",
   "nbconvert_exporter": "python",
   "pygments_lexer": "ipython3",
   "version": "3.7.6"
  }
 },
 "nbformat": 4,
 "nbformat_minor": 4
}
