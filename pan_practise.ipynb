{
 "cells": [
  {
   "cell_type": "code",
   "execution_count": 9,
   "metadata": {},
   "outputs": [],
   "source": [
    "#importing pandas \n",
    "import pandas as pd"
   ]
  },
  {
   "cell_type": "code",
   "execution_count": 10,
   "metadata": {},
   "outputs": [
    {
     "name": "stdout",
     "output_type": "stream",
     "text": [
      "0     1\n",
      "1     2\n",
      "2     3\n",
      "3     4\n",
      "4     5\n",
      "5     6\n",
      "6     7\n",
      "7     8\n",
      "8     9\n",
      "9    10\n",
      "dtype: int64\n"
     ]
    }
   ],
   "source": [
    "# pandas - creating a series using a list\n",
    "series_int = pd.Series([1,2,3,4,5,6,7,8,9,10])\n",
    "print(series_int)"
   ]
  },
  {
   "cell_type": "code",
   "execution_count": 11,
   "metadata": {},
   "outputs": [
    {
     "name": "stdout",
     "output_type": "stream",
     "text": [
      "0     India\n",
      "1       USA\n",
      "2     Japan\n",
      "3    Russia\n",
      "4     China\n",
      "dtype: object\n"
     ]
    }
   ],
   "source": [
    "#creating two lists and indexing each other in parallel\n",
    "countries = ['India', 'USA', 'Japan', 'Russia', 'China']\n",
    "leaders = ['Narendra Modi', 'Donald Trump', 'Shinzo Abe', 'Vladimir Putin', 'Xi Jinpin']\n",
    "countries_df = pd.Series(countries)\n",
    "print(countries_df)"
   ]
  },
  {
   "cell_type": "code",
   "execution_count": 12,
   "metadata": {},
   "outputs": [
    {
     "name": "stdout",
     "output_type": "stream",
     "text": [
      "Narendra Modi      India\n",
      "Donald Trump         USA\n",
      "Shinzo Abe         Japan\n",
      "Vladimir Putin    Russia\n",
      "Xi Jinpin          China\n",
      "dtype: object\n"
     ]
    }
   ],
   "source": [
    "#printing the data\n",
    "y = pd.Series(countries,index = leaders)\n",
    "print(y)"
   ]
  },
  {
   "cell_type": "code",
   "execution_count": 21,
   "metadata": {},
   "outputs": [
    {
     "name": "stdout",
     "output_type": "stream",
     "text": [
      "Alphabet    100\n",
      "IBM         200\n",
      "Tesla       300\n",
      "Infosys     500\n",
      "dtype: int64 \n",
      " Alphabet    200\n",
      "Facebook    300\n",
      "Tesla       600\n",
      "Infosys     100\n",
      "dtype: int64 \n",
      "\n",
      "Alphabet    300.0\n",
      "Facebook      NaN\n",
      "IBM           NaN\n",
      "Infosys     600.0\n",
      "Tesla       900.0\n",
      "dtype: float64 \n",
      "\n"
     ]
    }
   ],
   "source": [
    "stocks_set1 = ['Alphabet', 'IBM', 'Tesla', 'Infosys']\n",
    "stocks_set2 = ['Alphabet', 'Facebook', 'Tesla', 'Infosys']\n",
    "s = pd.Series([100,200,300,500],index = stocks_set1)\n",
    "s1 = pd.Series([200,300,600,100],index = stocks_set2)\n",
    "#print(s,\"\\n\")\n",
    "#print(s1,\"\\n\")\n",
    "print(s,\"\\n\",s1,\"\\n\")\n",
    "print(s+s1,\"\\n\")"
   ]
  },
  {
   "cell_type": "code",
   "execution_count": null,
   "metadata": {},
   "outputs": [],
   "source": []
  }
 ],
 "metadata": {
  "kernelspec": {
   "display_name": "Python 3",
   "language": "python",
   "name": "python3"
  },
  "language_info": {
   "codemirror_mode": {
    "name": "ipython",
    "version": 3
   },
   "file_extension": ".py",
   "mimetype": "text/x-python",
   "name": "python",
   "nbconvert_exporter": "python",
   "pygments_lexer": "ipython3",
   "version": "3.7.6"
  }
 },
 "nbformat": 4,
 "nbformat_minor": 4
}
